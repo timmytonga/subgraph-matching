{
 "cells": [
  {
   "cell_type": "code",
   "execution_count": 1,
   "metadata": {},
   "outputs": [],
   "source": [
    "from utils import data\n",
    "import uclasm\n",
    "import time\n",
    "import matplotlib.pyplot as plt\n",
    "import equivalence_partition\n",
    "\n",
    "tmplts, world = data.pnnl_v6(0)\n",
    "tmplt  = tmplts[0]\n",
    "\n",
    "results = {} # stores 'ch': partition\n",
    "nodes = range(0,74)\n",
    "graph = tmplt\n",
    "for ch, sparse_mat in graph.ch_to_adj.items():\n",
    "    adj_matrix = sparse_mat.toarray() # this might be too big for certain dataset\n",
    "    results[ch] = equivalence_partition.partition_vertices(nodes, adj_matrix)\n"
   ]
  },
  {
   "cell_type": "code",
   "execution_count": 4,
   "metadata": {},
   "outputs": [
    {
     "name": "stdout",
     "output_type": "stream",
     "text": [
      "\n",
      "\u001b[93m=========STATS FOR CHANNEL 4==============\n",
      "\u001b[0m\n",
      "==== GENERAL-STATS =====\n",
      "Total number of original nodes: 74\n",
      "Total number of equiv classes: 3\n",
      "Compression percentage (1 - equiv_classes/total_number_of_nodes): 0.96\n",
      "===== EQUIVALENCE CLASSES ===== \n",
      "[{0}, {1}, {2, 3, 4, 5, 6, 7, 8, 9, 10, 11, 12, 13, 14, 15, 16, 17, 18, 19, 20, 21, 22, 23, 24, 25, 26, 27, 28, 29, 30, 31, 32, 33, 34, 35, 36, 37, 38, 39, 40, 41, 42, 43, 44, 45, 46, 47, 48, 49, 50, 51, 52, 53, 54, 55, 56, 57, 58, 59, 60, 61, 62, 63, 64, 65, 66, 67, 68, 69, 70, 71, 72, 73}]\n",
      "===== NON-TRIVIAL EQUIV CLASSES ===== \n",
      "[{2, 3, 4, 5, 6, 7, 8, 9, 10, 11, 12, 13, 14, 15, 16, 17, 18, 19, 20, 21, 22, 23, 24, 25, 26, 27, 28, 29, 30, 31, 32, 33, 34, 35, 36, 37, 38, 39, 40, 41, 42, 43, 44, 45, 46, 47, 48, 49, 50, 51, 52, 53, 54, 55, 56, 57, 58, 59, 60, 61, 62, 63, 64, 65, 66, 67, 68, 69, 70, 71, 72, 73}]\n",
      "\n",
      "\u001b[93m=========STATS FOR CHANNEL 5==============\n",
      "\u001b[0m\n",
      "==== GENERAL-STATS =====\n",
      "Total number of original nodes: 74\n",
      "Total number of equiv classes: 65\n",
      "Compression percentage (1 - equiv_classes/total_number_of_nodes): 0.12\n",
      "===== EQUIVALENCE CLASSES ===== \n",
      "[{0}, {1, 70, 71, 72, 73, 42}, {2}, {3}, {4}, {5}, {6}, {7}, {8}, {9}, {10}, {11}, {12}, {13}, {14}, {15}, {16}, {17}, {18}, {19}, {20}, {21}, {22}, {23}, {24}, {25}, {26}, {27}, {28}, {29}, {30}, {31}, {32}, {33}, {34}, {35}, {36}, {37}, {38}, {39}, {40}, {41}, {43}, {44}, {58, 45, 46, 47}, {48}, {49}, {50}, {51}, {52}, {53}, {54}, {55}, {56}, {57}, {59}, {60}, {61}, {62}, {66, 63}, {64}, {65}, {67}, {68}, {69}]\n",
      "===== NON-TRIVIAL EQUIV CLASSES ===== \n",
      "[{1, 70, 71, 72, 73, 42}, {58, 45, 46, 47}, {66, 63}]\n",
      "\n",
      "\u001b[93m=========STATS FOR CHANNEL 6==============\n",
      "\u001b[0m\n",
      "==== GENERAL-STATS =====\n",
      "Total number of original nodes: 74\n",
      "Total number of equiv classes: 3\n",
      "Compression percentage (1 - equiv_classes/total_number_of_nodes): 0.96\n",
      "===== EQUIVALENCE CLASSES ===== \n",
      "[{0, 1, 2, 3, 4, 5, 6, 7, 8, 9, 10, 13, 14, 15, 16, 17, 18, 19, 20, 21, 22, 23, 24, 25, 26, 27, 28, 30, 31, 32, 33, 34, 35, 37, 38, 39, 40, 41, 42, 43, 44, 45, 46, 47, 48, 49, 50, 51, 52, 53, 54, 55, 56, 57, 58, 59, 60, 61, 62, 63, 64, 65, 66, 67, 68, 69}, {11, 12, 29, 36}, {72, 73, 70, 71}]\n",
      "===== NON-TRIVIAL EQUIV CLASSES ===== \n",
      "[{0, 1, 2, 3, 4, 5, 6, 7, 8, 9, 10, 13, 14, 15, 16, 17, 18, 19, 20, 21, 22, 23, 24, 25, 26, 27, 28, 30, 31, 32, 33, 34, 35, 37, 38, 39, 40, 41, 42, 43, 44, 45, 46, 47, 48, 49, 50, 51, 52, 53, 54, 55, 56, 57, 58, 59, 60, 61, 62, 63, 64, 65, 66, 67, 68, 69}, {11, 12, 29, 36}, {72, 73, 70, 71}]\n",
      "\n",
      "\u001b[93m=========STATS FOR CHANNEL 3==============\n",
      "\u001b[0m\n",
      "==== GENERAL-STATS =====\n",
      "Total number of original nodes: 74\n",
      "Total number of equiv classes: 3\n",
      "Compression percentage (1 - equiv_classes/total_number_of_nodes): 0.96\n",
      "===== EQUIVALENCE CLASSES ===== \n",
      "[{0, 1, 2, 3, 4, 5, 6, 7, 8, 9, 10, 11, 12, 13, 14, 15, 16, 17, 18, 19, 20, 21, 22, 23, 24, 25, 26, 27, 28, 29, 30, 31, 32, 34, 35, 36, 37, 38, 39, 40, 41, 43, 44, 45, 46, 47, 48, 49, 50, 51, 52, 53, 54, 55, 56, 57, 58, 59, 60, 61, 62, 63, 64, 65, 66, 67, 68, 69, 70, 71, 72, 73}, {33}, {42}]\n",
      "===== NON-TRIVIAL EQUIV CLASSES ===== \n",
      "[{0, 1, 2, 3, 4, 5, 6, 7, 8, 9, 10, 11, 12, 13, 14, 15, 16, 17, 18, 19, 20, 21, 22, 23, 24, 25, 26, 27, 28, 29, 30, 31, 32, 34, 35, 36, 37, 38, 39, 40, 41, 43, 44, 45, 46, 47, 48, 49, 50, 51, 52, 53, 54, 55, 56, 57, 58, 59, 60, 61, 62, 63, 64, 65, 66, 67, 68, 69, 70, 71, 72, 73}]\n",
      "\n",
      "\u001b[93m=========STATS FOR CHANNEL 0==============\n",
      "\u001b[0m\n",
      "==== GENERAL-STATS =====\n",
      "Total number of original nodes: 74\n",
      "Total number of equiv classes: 42\n",
      "Compression percentage (1 - equiv_classes/total_number_of_nodes): 0.43\n",
      "===== EQUIVALENCE CLASSES ===== \n",
      "[{0}, {1, 42, 43, 44, 45, 46, 47, 48, 49, 50, 51, 52, 53, 54, 55, 56, 57, 58, 59, 60, 61, 62, 63, 64, 65, 66, 67, 68, 69, 70, 71, 72, 73}, {2}, {3}, {4}, {5}, {6}, {7}, {8}, {9}, {10}, {11}, {12}, {13}, {14}, {15}, {16}, {17}, {18}, {19}, {20}, {21}, {22}, {23}, {24}, {25}, {26}, {27}, {28}, {29}, {30}, {31}, {32}, {33}, {34}, {35}, {36}, {37}, {38}, {39}, {40}, {41}]\n",
      "===== NON-TRIVIAL EQUIV CLASSES ===== \n",
      "[{1, 42, 43, 44, 45, 46, 47, 48, 49, 50, 51, 52, 53, 54, 55, 56, 57, 58, 59, 60, 61, 62, 63, 64, 65, 66, 67, 68, 69, 70, 71, 72, 73}]\n",
      "\n",
      "\u001b[93m=========STATS FOR CHANNEL 1==============\n",
      "\u001b[0m\n",
      "==== GENERAL-STATS =====\n",
      "Total number of original nodes: 74\n",
      "Total number of equiv classes: 42\n",
      "Compression percentage (1 - equiv_classes/total_number_of_nodes): 0.43\n",
      "===== EQUIVALENCE CLASSES ===== \n",
      "[{0}, {1, 42, 43, 44, 45, 46, 47, 48, 49, 50, 51, 52, 53, 54, 55, 56, 57, 58, 59, 60, 61, 62, 63, 64, 65, 66, 67, 68, 69, 70, 71, 72, 73}, {2}, {3}, {4}, {5}, {6}, {7}, {8}, {9}, {10}, {11}, {12}, {13}, {14}, {15}, {16}, {17}, {18}, {19}, {20}, {21}, {22}, {23}, {24}, {25}, {26}, {27}, {28}, {29}, {30}, {31}, {32}, {33}, {34}, {35}, {36}, {37}, {38}, {39}, {40}, {41}]\n",
      "===== NON-TRIVIAL EQUIV CLASSES ===== \n",
      "[{1, 42, 43, 44, 45, 46, 47, 48, 49, 50, 51, 52, 53, 54, 55, 56, 57, 58, 59, 60, 61, 62, 63, 64, 65, 66, 67, 68, 69, 70, 71, 72, 73}]\n",
      "\n",
      "\u001b[93m=========STATS FOR CHANNEL 2==============\n",
      "\u001b[0m\n",
      "==== GENERAL-STATS =====\n",
      "Total number of original nodes: 74\n",
      "Total number of equiv classes: 5\n",
      "Compression percentage (1 - equiv_classes/total_number_of_nodes): 0.93\n",
      "===== EQUIVALENCE CLASSES ===== \n",
      "[{0, 1, 2, 3, 4, 5, 6, 8, 9, 10, 11, 12, 13, 14, 15, 16, 18, 19, 20, 21, 22, 23, 25, 26, 27, 28, 29, 30, 31, 32, 33, 34, 35, 36, 37, 38, 39, 40, 41, 43, 44, 45, 46, 47, 48, 49, 50, 51, 52, 53, 54, 55, 56, 57, 58, 59, 60, 61, 62, 63, 64, 65, 66, 67, 68, 69, 70, 71, 72, 73}, {7}, {17}, {24}, {42}]\n",
      "===== NON-TRIVIAL EQUIV CLASSES ===== \n",
      "[{0, 1, 2, 3, 4, 5, 6, 8, 9, 10, 11, 12, 13, 14, 15, 16, 18, 19, 20, 21, 22, 23, 25, 26, 27, 28, 29, 30, 31, 32, 33, 34, 35, 36, 37, 38, 39, 40, 41, 43, 44, 45, 46, 47, 48, 49, 50, 51, 52, 53, 54, 55, 56, 57, 58, 59, 60, 61, 62, 63, 64, 65, 66, 67, 68, 69, 70, 71, 72, 73}]\n"
     ]
    }
   ],
   "source": [
    "from termcolor import colored\n",
    "    \n",
    "def print_stats(partition):\n",
    "    equiv_classes = partition.classes()\n",
    "    # compute some stats\n",
    "    print(\"==== GENERAL-STATS =====\")\n",
    "    # the number of nodes\n",
    "    print(\"Total number of original nodes: \" + str(len(partition))    )       \n",
    "    # the number of equiv classes\n",
    "    print(\"Total number of equiv classes: \" + str(len(equiv_classes))) \n",
    "    # compression percentage\n",
    "    compression_percentage = 1- len(equiv_classes)/len(partition)\n",
    "    print(\"Compression percentage (1 - equiv_classes/total_number_of_nodes): %4.2f\"%(compression_percentage))\n",
    "    equiv_classes = partition.classes() \n",
    "    print(\"===== EQUIVALENCE CLASSES ===== \")\n",
    "    print(equiv_classes)\n",
    "    print(\"===== NON-TRIVIAL EQUIV CLASSES ===== \")\n",
    "    print([i for i in equiv_classes if len(i) > 1])\n",
    "\n",
    "for ch in results:\n",
    "    print(colored(\"\\n=========STATS FOR CHANNEL \"+ ch+ \"==============\\n\", 'red'))\n",
    "    print_stats(results[ch])\n"
   ]
  },
  {
   "cell_type": "code",
   "execution_count": 16,
   "metadata": {
    "collapsed": true
   },
   "outputs": [
    {
     "name": "stdout",
     "output_type": "stream",
     "text": [
      "Equiv Classes: [{0}, {1, 70, 71, 72, 73, 42}, {2}, {3}, {4}, {5}, {6}, {7}, {8}, {9}, {10}, {11}, {12}, {13}, {14}, {15}, {16}, {17}, {18}, {19}, {20}, {21}, {22}, {23}, {24}, {25}, {26}, {27}, {28}, {29}, {30}, {31}, {32}, {33}, {34}, {35}, {36}, {37}, {38}, {39}, {40}, {41}, {43}, {44}, {58, 45, 46, 47}, {48}, {49}, {50}, {51}, {52}, {53}, {54}, {55}, {56}, {57}, {59}, {60}, {61}, {62}, {66, 63}, {64}, {65}, {67}, {68}, {69}]\n",
      "Parent_map: {0: 0, 1: 1, 2: 2, 3: 3, 4: 4, 5: 5, 6: 6, 7: 7, 8: 8, 9: 9, 10: 10, 11: 11, 12: 12, 13: 13, 14: 14, 15: 15, 16: 16, 17: 17, 18: 18, 19: 19, 20: 20, 21: 21, 22: 22, 23: 23, 24: 24, 25: 25, 26: 26, 27: 27, 28: 28, 29: 29, 30: 30, 31: 31, 32: 32, 33: 33, 34: 34, 35: 35, 36: 36, 37: 37, 38: 38, 39: 39, 40: 40, 41: 41, 42: 1, 43: 43, 44: 44, 45: 58, 46: 58, 47: 58, 48: 48, 49: 49, 50: 50, 51: 51, 52: 52, 53: 53, 54: 54, 55: 55, 56: 56, 57: 57, 58: 58, 59: 59, 60: 60, 61: 61, 62: 62, 63: 66, 64: 64, 65: 65, 66: 66, 67: 67, 68: 68, 69: 69, 70: 1, 71: 1, 72: 1, 73: 1}\n",
      "Root_size_map: {0: 1, 1: 6, 2: 1, 3: 1, 4: 1, 5: 1, 6: 1, 7: 1, 8: 1, 9: 1, 10: 1, 11: 1, 12: 1, 13: 1, 14: 1, 15: 1, 16: 1, 17: 1, 18: 1, 19: 1, 20: 1, 21: 1, 22: 1, 23: 1, 24: 1, 25: 1, 26: 1, 27: 1, 28: 1, 29: 1, 30: 1, 31: 1, 32: 1, 33: 1, 34: 1, 35: 1, 36: 1, 37: 1, 38: 1, 39: 1, 40: 1, 41: 1, 43: 1, 44: 1, 48: 1, 49: 1, 50: 1, 51: 1, 52: 1, 53: 1, 54: 1, 55: 1, 56: 1, 57: 1, 58: 4, 59: 1, 60: 1, 61: 1, 62: 1, 64: 1, 65: 1, 66: 2, 67: 1, 68: 1, 69: 1}\n"
     ]
    }
   ],
   "source": []
  }
 ],
 "metadata": {
  "kernelspec": {
   "display_name": "Python 3",
   "language": "python",
   "name": "python3"
  },
  "language_info": {
   "codemirror_mode": {
    "name": "ipython",
    "version": 3
   },
   "file_extension": ".py",
   "mimetype": "text/x-python",
   "name": "python",
   "nbconvert_exporter": "python",
   "pygments_lexer": "ipython3",
   "version": "3.7.3"
  }
 },
 "nbformat": 4,
 "nbformat_minor": 2
}
