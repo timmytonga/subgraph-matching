{
 "cells": [
  {
   "cell_type": "code",
   "execution_count": 3,
   "metadata": {},
   "outputs": [
    {
     "name": "stdout",
     "output_type": "stream",
     "text": [
      "Size of graph: 74\n"
     ]
    },
    {
     "ename": "NameError",
     "evalue": "name 'nodes' is not defined",
     "output_type": "error",
     "traceback": [
      "\u001b[0;31m--------------------------------------------------------------------------\u001b[0m",
      "\u001b[0;31mNameError\u001b[0m                                Traceback (most recent call last)",
      "\u001b[0;32m<ipython-input-3-4f7c4e013076>\u001b[0m in \u001b[0;36m<module>\u001b[0;34m\u001b[0m\n\u001b[1;32m     19\u001b[0m     \u001b[0;31m#adj_matrix = sparse_mat\u001b[0m\u001b[0;34m\u001b[0m\u001b[0;34m\u001b[0m\u001b[0;34m\u001b[0m\u001b[0m\n\u001b[1;32m     20\u001b[0m     \u001b[0madj_matrix\u001b[0m \u001b[0;34m=\u001b[0m \u001b[0msparse_mat\u001b[0m \u001b[0;31m# this might be too big for certain dataset\u001b[0m\u001b[0;34m\u001b[0m\u001b[0;34m\u001b[0m\u001b[0m\n\u001b[0;32m---> 21\u001b[0;31m     \u001b[0mresults\u001b[0m\u001b[0;34m[\u001b[0m\u001b[0mch\u001b[0m\u001b[0;34m]\u001b[0m \u001b[0;34m=\u001b[0m \u001b[0mequivalence_partition_sparse\u001b[0m\u001b[0;34m.\u001b[0m\u001b[0mpartition_vertices\u001b[0m\u001b[0;34m(\u001b[0m\u001b[0madj_matrix\u001b[0m\u001b[0;34m)\u001b[0m\u001b[0;34m\u001b[0m\u001b[0;34m\u001b[0m\u001b[0m\n\u001b[0m\u001b[1;32m     22\u001b[0m     \u001b[0mtime_mat\u001b[0m\u001b[0;34m[\u001b[0m\u001b[0mch\u001b[0m\u001b[0;34m]\u001b[0m \u001b[0;34m=\u001b[0m \u001b[0mtime\u001b[0m\u001b[0;34m.\u001b[0m\u001b[0mtime\u001b[0m\u001b[0;34m(\u001b[0m\u001b[0;34m)\u001b[0m \u001b[0;34m-\u001b[0m \u001b[0mstart_time\u001b[0m \u001b[0;31m# save the time took to compute the partition\u001b[0m\u001b[0;34m\u001b[0m\u001b[0;34m\u001b[0m\u001b[0m\n\u001b[1;32m     23\u001b[0m     \u001b[0mprint\u001b[0m\u001b[0;34m(\u001b[0m\u001b[0;34m\"Finished channel: \"\u001b[0m\u001b[0;34m+\u001b[0m \u001b[0mch\u001b[0m \u001b[0;34m+\u001b[0m \u001b[0;34m\". Took %5f seconds\"\u001b[0m\u001b[0;34m%\u001b[0m\u001b[0;34m(\u001b[0m\u001b[0mtime_mat\u001b[0m\u001b[0;34m[\u001b[0m\u001b[0mch\u001b[0m\u001b[0;34m]\u001b[0m\u001b[0;34m)\u001b[0m\u001b[0;34m)\u001b[0m\u001b[0;34m\u001b[0m\u001b[0;34m\u001b[0m\u001b[0m\n",
      "\u001b[0;32m/s2/scr/reu_data/darpa_maa/tim/subgraph-matching/code/equivalence_partition_sparse/partition_sparse.py\u001b[0m in \u001b[0;36mpartition_vertices\u001b[0;34m(adj_matrix)\u001b[0m\n\u001b[1;32m     51\u001b[0m     \u001b[0;32massert\u001b[0m \u001b[0madj_matrix\u001b[0m\u001b[0;34m.\u001b[0m\u001b[0mshape\u001b[0m\u001b[0;34m[\u001b[0m\u001b[0;36m0\u001b[0m\u001b[0;34m]\u001b[0m \u001b[0;34m==\u001b[0m \u001b[0madj_matrix\u001b[0m\u001b[0;34m.\u001b[0m\u001b[0mshape\u001b[0m\u001b[0;34m[\u001b[0m\u001b[0;36m1\u001b[0m\u001b[0;34m]\u001b[0m\u001b[0;34m,\u001b[0m \u001b[0;34m\"partition_vertices: Must be square matrix!\"\u001b[0m\u001b[0;34m\u001b[0m\u001b[0;34m\u001b[0m\u001b[0m\n\u001b[1;32m     52\u001b[0m     \u001b[0;31m# initialize an equivalence relation fill with nodes\u001b[0m\u001b[0;34m\u001b[0m\u001b[0;34m\u001b[0m\u001b[0;34m\u001b[0m\u001b[0m\n\u001b[0;32m---> 53\u001b[0;31m     \u001b[0mvertices_partition\u001b[0m \u001b[0;34m=\u001b[0m \u001b[0mEquivalence\u001b[0m\u001b[0;34m(\u001b[0m\u001b[0mnodes\u001b[0m\u001b[0;34m)\u001b[0m\u001b[0;34m\u001b[0m\u001b[0;34m\u001b[0m\u001b[0m\n\u001b[0m\u001b[1;32m     54\u001b[0m     \u001b[0;31m# partition into equivalence classes\u001b[0m\u001b[0;34m\u001b[0m\u001b[0;34m\u001b[0m\u001b[0;34m\u001b[0m\u001b[0m\n\u001b[1;32m     55\u001b[0m     \u001b[0mvertices_partition\u001b[0m\u001b[0;34m.\u001b[0m\u001b[0mpartition\u001b[0m\u001b[0;34m(\u001b[0m\u001b[0mpermutation_relation\u001b[0m\u001b[0;34m,\u001b[0m \u001b[0madj_matrix\u001b[0m\u001b[0;34m)\u001b[0m\u001b[0;34m\u001b[0m\u001b[0;34m\u001b[0m\u001b[0m\n",
      "\u001b[0;31mNameError\u001b[0m: name 'nodes' is not defined"
     ]
    }
   ],
   "source": [
    "# Test Sparse \n",
    "from utils import data\n",
    "import uclasm\n",
    "import time\n",
    "import matplotlib.pyplot as plt\n",
    "import equivalence_partition_sparse\n",
    "\n",
    "tmplts, world = data.pnnl_v6(0)\n",
    "tmplt  = tmplts[0]\n",
    "\n",
    "results = {} # stores 'ch': partition\n",
    "time_mat = {} # stores 'ch' : time to compute partition\n",
    "\n",
    "#### set this graph to run experiment\n",
    "graph = tmplt  \n",
    "print(\"Size of graph: \" + str(graph.n_nodes))\n",
    "for ch, sparse_mat in graph.ch_to_adj.items():\n",
    "    start_time = time.time()\n",
    "    #adj_matrix = sparse_mat\n",
    "    adj_matrix = sparse_mat # this might be too big for certain dataset\n",
    "    results[ch] = equivalence_partition_sparse.partition_vertices(adj_matrix)\n",
    "    time_mat[ch] = time.time() - start_time # save the time took to compute the partition\n",
    "    print(\"Finished channel: \"+ ch + \". Took %5f seconds\"%(time_mat[ch]))"
   ]
  },
  {
   "cell_type": "code",
   "execution_count": 1,
   "metadata": {},
   "outputs": [
    {
     "name": "stdout",
     "output_type": "stream",
     "text": [
      "Size of graph: 74\n",
      "Finished channel: 4. Took 0.005680 seconds\n",
      "Finished channel: 5. Took 0.027542 seconds\n",
      "Finished channel: 6. Took 0.003301 seconds\n",
      "Finished channel: 3. Took 0.003694 seconds\n",
      "Finished channel: 0. Took 0.007135 seconds\n",
      "Finished channel: 1. Took 0.006051 seconds\n",
      "Finished channel: 2. Took 0.002957 seconds\n"
     ]
    }
   ],
   "source": [
    "from utils import data\n",
    "import uclasm\n",
    "import time\n",
    "import matplotlib.pyplot as plt\n",
    "import equivalence_partition\n",
    "\n",
    "tmplts, world = data.pnnl_v6(0)\n",
    "tmplt  = tmplts[0]\n",
    "\n",
    "results = {} # stores 'ch': partition\n",
    "time_mat = {} # stores 'ch' : time to compute partition\n",
    "\n",
    "#### set this graph to run experiment\n",
    "graph = tmplt  \n",
    "print(\"Size of graph: \" + str(graph.n_nodes))\n",
    "nodes = range(0, graph.n_nodes)\n",
    "for ch, sparse_mat in graph.ch_to_adj.items():\n",
    "    start_time = time.time()\n",
    "    #adj_matrix = sparse_mat\n",
    "    adj_matrix = sparse_mat.toarray() # this might be too big for certain dataset\n",
    "    results[ch] = equivalence_partition.partition_vertices(nodes, adj_matrix)\n",
    "    time_mat[ch] = time.time() - start_time # save the time took to compute the partition\n",
    "    print(\"Finished channel: \"+ ch + \". Took %5f seconds\"%(time_mat[ch]))\n"
   ]
  },
  {
   "cell_type": "code",
   "execution_count": 2,
   "metadata": {
    "scrolled": false
   },
   "outputs": [
    {
     "name": "stdout",
     "output_type": "stream",
     "text": [
      "\n",
      "\u001b[93m=========STATS FOR CHANNEL 4==============\u001b[0m\n",
      "--> Time took: 0.005680\n",
      "==== GENERAL-STATS =====\n",
      "Total number of original nodes: 74\n",
      "Total number of equiv classes: 3\n",
      "Compression percentage (1 - equiv_classes/total_number_of_nodes): 0.96\n",
      "===== EQUIVALENCE CLASSES ===== \n",
      "[{0}, {1}, {2, 3, 4, 5, 6, 7, 8, 9, 10, 11, 12, 13, 14, 15, 16, 17, 18, 19, 20, 21, 22, 23, 24, 25, 26, 27, 28, 29, 30, 31, 32, 33, 34, 35, 36, 37, 38, 39, 40, 41, 42, 43, 44, 45, 46, 47, 48, 49, 50, 51, 52, 53, 54, 55, 56, 57, 58, 59, 60, 61, 62, 63, 64, 65, 66, 67, 68, 69, 70, 71, 72, 73}]\n",
      "===== NON-TRIVIAL EQUIV CLASSES ===== \n",
      "[{2, 3, 4, 5, 6, 7, 8, 9, 10, 11, 12, 13, 14, 15, 16, 17, 18, 19, 20, 21, 22, 23, 24, 25, 26, 27, 28, 29, 30, 31, 32, 33, 34, 35, 36, 37, 38, 39, 40, 41, 42, 43, 44, 45, 46, 47, 48, 49, 50, 51, 52, 53, 54, 55, 56, 57, 58, 59, 60, 61, 62, 63, 64, 65, 66, 67, 68, 69, 70, 71, 72, 73}]\n",
      "Number of non-trivial equiv classes: 1\n",
      "Sizes of equiv classes: [72]\n",
      "Largest equiv size: 72\n",
      "\n",
      "\u001b[93m=========STATS FOR CHANNEL 5==============\u001b[0m\n",
      "--> Time took: 0.027542\n",
      "==== GENERAL-STATS =====\n",
      "Total number of original nodes: 74\n",
      "Total number of equiv classes: 65\n",
      "Compression percentage (1 - equiv_classes/total_number_of_nodes): 0.12\n",
      "===== EQUIVALENCE CLASSES ===== \n",
      "[{0}, {1, 70, 71, 72, 73, 42}, {2}, {3}, {4}, {5}, {6}, {7}, {8}, {9}, {10}, {11}, {12}, {13}, {14}, {15}, {16}, {17}, {18}, {19}, {20}, {21}, {22}, {23}, {24}, {25}, {26}, {27}, {28}, {29}, {30}, {31}, {32}, {33}, {34}, {35}, {36}, {37}, {38}, {39}, {40}, {41}, {43}, {44}, {58, 45, 46, 47}, {48}, {49}, {50}, {51}, {52}, {53}, {54}, {55}, {56}, {57}, {59}, {60}, {61}, {62}, {66, 63}, {64}, {65}, {67}, {68}, {69}]\n",
      "===== NON-TRIVIAL EQUIV CLASSES ===== \n",
      "[{1, 70, 71, 72, 73, 42}, {58, 45, 46, 47}, {66, 63}]\n",
      "Number of non-trivial equiv classes: 3\n",
      "Sizes of equiv classes: [6, 4, 2]\n",
      "Largest equiv size: 6\n",
      "\n",
      "\u001b[93m=========STATS FOR CHANNEL 6==============\u001b[0m\n",
      "--> Time took: 0.003301\n",
      "==== GENERAL-STATS =====\n",
      "Total number of original nodes: 74\n",
      "Total number of equiv classes: 3\n",
      "Compression percentage (1 - equiv_classes/total_number_of_nodes): 0.96\n",
      "===== EQUIVALENCE CLASSES ===== \n",
      "[{0, 1, 2, 3, 4, 5, 6, 7, 8, 9, 10, 13, 14, 15, 16, 17, 18, 19, 20, 21, 22, 23, 24, 25, 26, 27, 28, 30, 31, 32, 33, 34, 35, 37, 38, 39, 40, 41, 42, 43, 44, 45, 46, 47, 48, 49, 50, 51, 52, 53, 54, 55, 56, 57, 58, 59, 60, 61, 62, 63, 64, 65, 66, 67, 68, 69}, {11, 12, 29, 36}, {72, 73, 70, 71}]\n",
      "===== NON-TRIVIAL EQUIV CLASSES ===== \n",
      "[{0, 1, 2, 3, 4, 5, 6, 7, 8, 9, 10, 13, 14, 15, 16, 17, 18, 19, 20, 21, 22, 23, 24, 25, 26, 27, 28, 30, 31, 32, 33, 34, 35, 37, 38, 39, 40, 41, 42, 43, 44, 45, 46, 47, 48, 49, 50, 51, 52, 53, 54, 55, 56, 57, 58, 59, 60, 61, 62, 63, 64, 65, 66, 67, 68, 69}, {11, 12, 29, 36}, {72, 73, 70, 71}]\n",
      "Number of non-trivial equiv classes: 3\n",
      "Sizes of equiv classes: [66, 4, 4]\n",
      "Largest equiv size: 66\n",
      "\n",
      "\u001b[93m=========STATS FOR CHANNEL 3==============\u001b[0m\n",
      "--> Time took: 0.003694\n",
      "==== GENERAL-STATS =====\n",
      "Total number of original nodes: 74\n",
      "Total number of equiv classes: 3\n",
      "Compression percentage (1 - equiv_classes/total_number_of_nodes): 0.96\n",
      "===== EQUIVALENCE CLASSES ===== \n",
      "[{0, 1, 2, 3, 4, 5, 6, 7, 8, 9, 10, 11, 12, 13, 14, 15, 16, 17, 18, 19, 20, 21, 22, 23, 24, 25, 26, 27, 28, 29, 30, 31, 32, 34, 35, 36, 37, 38, 39, 40, 41, 43, 44, 45, 46, 47, 48, 49, 50, 51, 52, 53, 54, 55, 56, 57, 58, 59, 60, 61, 62, 63, 64, 65, 66, 67, 68, 69, 70, 71, 72, 73}, {33}, {42}]\n",
      "===== NON-TRIVIAL EQUIV CLASSES ===== \n",
      "[{0, 1, 2, 3, 4, 5, 6, 7, 8, 9, 10, 11, 12, 13, 14, 15, 16, 17, 18, 19, 20, 21, 22, 23, 24, 25, 26, 27, 28, 29, 30, 31, 32, 34, 35, 36, 37, 38, 39, 40, 41, 43, 44, 45, 46, 47, 48, 49, 50, 51, 52, 53, 54, 55, 56, 57, 58, 59, 60, 61, 62, 63, 64, 65, 66, 67, 68, 69, 70, 71, 72, 73}]\n",
      "Number of non-trivial equiv classes: 1\n",
      "Sizes of equiv classes: [72]\n",
      "Largest equiv size: 72\n",
      "\n",
      "\u001b[93m=========STATS FOR CHANNEL 0==============\u001b[0m\n",
      "--> Time took: 0.007135\n",
      "==== GENERAL-STATS =====\n",
      "Total number of original nodes: 74\n",
      "Total number of equiv classes: 42\n",
      "Compression percentage (1 - equiv_classes/total_number_of_nodes): 0.43\n",
      "===== EQUIVALENCE CLASSES ===== \n",
      "[{0}, {1, 42, 43, 44, 45, 46, 47, 48, 49, 50, 51, 52, 53, 54, 55, 56, 57, 58, 59, 60, 61, 62, 63, 64, 65, 66, 67, 68, 69, 70, 71, 72, 73}, {2}, {3}, {4}, {5}, {6}, {7}, {8}, {9}, {10}, {11}, {12}, {13}, {14}, {15}, {16}, {17}, {18}, {19}, {20}, {21}, {22}, {23}, {24}, {25}, {26}, {27}, {28}, {29}, {30}, {31}, {32}, {33}, {34}, {35}, {36}, {37}, {38}, {39}, {40}, {41}]\n",
      "===== NON-TRIVIAL EQUIV CLASSES ===== \n",
      "[{1, 42, 43, 44, 45, 46, 47, 48, 49, 50, 51, 52, 53, 54, 55, 56, 57, 58, 59, 60, 61, 62, 63, 64, 65, 66, 67, 68, 69, 70, 71, 72, 73}]\n",
      "Number of non-trivial equiv classes: 1\n",
      "Sizes of equiv classes: [33]\n",
      "Largest equiv size: 33\n",
      "\n",
      "\u001b[93m=========STATS FOR CHANNEL 1==============\u001b[0m\n",
      "--> Time took: 0.006051\n",
      "==== GENERAL-STATS =====\n",
      "Total number of original nodes: 74\n",
      "Total number of equiv classes: 42\n",
      "Compression percentage (1 - equiv_classes/total_number_of_nodes): 0.43\n",
      "===== EQUIVALENCE CLASSES ===== \n",
      "[{0}, {1, 42, 43, 44, 45, 46, 47, 48, 49, 50, 51, 52, 53, 54, 55, 56, 57, 58, 59, 60, 61, 62, 63, 64, 65, 66, 67, 68, 69, 70, 71, 72, 73}, {2}, {3}, {4}, {5}, {6}, {7}, {8}, {9}, {10}, {11}, {12}, {13}, {14}, {15}, {16}, {17}, {18}, {19}, {20}, {21}, {22}, {23}, {24}, {25}, {26}, {27}, {28}, {29}, {30}, {31}, {32}, {33}, {34}, {35}, {36}, {37}, {38}, {39}, {40}, {41}]\n",
      "===== NON-TRIVIAL EQUIV CLASSES ===== \n",
      "[{1, 42, 43, 44, 45, 46, 47, 48, 49, 50, 51, 52, 53, 54, 55, 56, 57, 58, 59, 60, 61, 62, 63, 64, 65, 66, 67, 68, 69, 70, 71, 72, 73}]\n",
      "Number of non-trivial equiv classes: 1\n",
      "Sizes of equiv classes: [33]\n",
      "Largest equiv size: 33\n",
      "\n",
      "\u001b[93m=========STATS FOR CHANNEL 2==============\u001b[0m\n",
      "--> Time took: 0.002957\n",
      "==== GENERAL-STATS =====\n",
      "Total number of original nodes: 74\n",
      "Total number of equiv classes: 5\n",
      "Compression percentage (1 - equiv_classes/total_number_of_nodes): 0.93\n",
      "===== EQUIVALENCE CLASSES ===== \n",
      "[{0, 1, 2, 3, 4, 5, 6, 8, 9, 10, 11, 12, 13, 14, 15, 16, 18, 19, 20, 21, 22, 23, 25, 26, 27, 28, 29, 30, 31, 32, 33, 34, 35, 36, 37, 38, 39, 40, 41, 43, 44, 45, 46, 47, 48, 49, 50, 51, 52, 53, 54, 55, 56, 57, 58, 59, 60, 61, 62, 63, 64, 65, 66, 67, 68, 69, 70, 71, 72, 73}, {7}, {17}, {24}, {42}]\n",
      "===== NON-TRIVIAL EQUIV CLASSES ===== \n",
      "[{0, 1, 2, 3, 4, 5, 6, 8, 9, 10, 11, 12, 13, 14, 15, 16, 18, 19, 20, 21, 22, 23, 25, 26, 27, 28, 29, 30, 31, 32, 33, 34, 35, 36, 37, 38, 39, 40, 41, 43, 44, 45, 46, 47, 48, 49, 50, 51, 52, 53, 54, 55, 56, 57, 58, 59, 60, 61, 62, 63, 64, 65, 66, 67, 68, 69, 70, 71, 72, 73}]\n",
      "Number of non-trivial equiv classes: 1\n",
      "Sizes of equiv classes: [70]\n",
      "Largest equiv size: 70\n"
     ]
    }
   ],
   "source": [
    "class bcolors:\n",
    "    HEADER = '\\033[95m'\n",
    "    OKBLUE = '\\033[94m'\n",
    "    OKGREEN = '\\033[92m'\n",
    "    WARNING = '\\033[93m'\n",
    "    FAIL = '\\033[91m'\n",
    "    ENDC = '\\033[0m'\n",
    "    BOLD = '\\033[1m'\n",
    "    UNDERLINE = '\\033[4m'\n",
    "    \n",
    "def print_stats(partition):\n",
    "    equiv_classes = partition.classes()\n",
    "    # compute some stats\n",
    "    print(\"==== GENERAL-STATS =====\")\n",
    "    # the number of nodes\n",
    "    print(\"Total number of original nodes: \" + str(len(partition))    )       \n",
    "    # the number of equiv classes\n",
    "    print(\"Total number of equiv classes: \" + str(len(equiv_classes))) \n",
    "    # compression percentage\n",
    "    compression_percentage = 1- len(equiv_classes)/len(partition)\n",
    "    print(\"Compression percentage (1 - equiv_classes/total_number_of_nodes): %4.2f\"%(compression_percentage))\n",
    "    equiv_classes = partition.classes() \n",
    "    print(\"===== EQUIVALENCE CLASSES ===== \")\n",
    "    print(equiv_classes)\n",
    "    print(\"===== NON-TRIVIAL EQUIV CLASSES ===== \")\n",
    "    non_triv = [i for i in equiv_classes if len(i) > 1]\n",
    "    print(non_triv)\n",
    "    print(\"Number of non-trivial equiv classes: %d\"%len(non_triv))\n",
    "    sizes = [len(l) for l in non_triv]\n",
    "    print(\"Sizes of equiv classes: \"+ str(sizes))\n",
    "    print(\"Largest equiv size: %d\"%(max(sizes)))\n",
    "\n",
    "for ch in results:\n",
    "    print(\"\\n\" + bcolors.WARNING+\\\n",
    "          \"=========STATS FOR CHANNEL \"+ ch+ \"==============\" + bcolors.ENDC)\n",
    "    print(\"--> Time took: %f\"%(time_mat[ch]))\n",
    "    print_stats(results[ch])\n"
   ]
  },
  {
   "cell_type": "code",
   "execution_count": 13,
   "metadata": {},
   "outputs": [
    {
     "name": "stdout",
     "output_type": "stream",
     "text": [
      "4: 1\n",
      "5: 721\n",
      "6: 16\n",
      "3: 1\n",
      "0: 236\n",
      "1: 295\n",
      "2: 3\n"
     ]
    }
   ],
   "source": [
    "for ch, sparse_mat in graph.ch_to_adj.items():\n",
    "    print(ch + \": \" + str(sparse_mat.nnz))"
   ]
  },
  {
   "cell_type": "code",
   "execution_count": null,
   "metadata": {},
   "outputs": [],
   "source": []
  }
 ],
 "metadata": {
  "kernelspec": {
   "display_name": "Python 3",
   "language": "python",
   "name": "python3"
  },
  "language_info": {
   "codemirror_mode": {
    "name": "ipython",
    "version": 3
   },
   "file_extension": ".py",
   "mimetype": "text/x-python",
   "name": "python",
   "nbconvert_exporter": "python",
   "pygments_lexer": "ipython3",
   "version": "3.7.3"
  }
 },
 "nbformat": 4,
 "nbformat_minor": 2
}
