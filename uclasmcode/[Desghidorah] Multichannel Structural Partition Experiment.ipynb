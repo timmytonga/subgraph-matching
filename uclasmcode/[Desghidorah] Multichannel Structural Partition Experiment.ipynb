{
 "cells": [
  {
   "cell_type": "code",
   "execution_count": 24,
   "metadata": {},
   "outputs": [],
   "source": [
    "%%capture output\n",
    "\n",
    "def compute_non_trivial(adj_matrix):\n",
    "    result = []\n",
    "    for i in range(adj_matrix.shape[0]):\n",
    "        if adj_matrix[i].any() or adj_matrix[:,i].any():\n",
    "            result.append(i)\n",
    "    return result\n",
    "\n",
    "from utils import data\n",
    "import uclasm\n",
    "import time\n",
    "import matplotlib.pyplot as plt\n",
    "import equivalence_partition\n",
    "\n",
    "tmplts, world = data.pnnl_v6(5)\n",
    "#tmplts, world = data.gordian_v7(2)\n",
    "#tmplts, world = data.pnnl_rw_noisy()\n",
    "#tmplts, world = data.pnnl_v6(7)\n",
    "#tmplts, world = data.pnnl_rw()\n",
    "#tmplts, world = data.ivysys_v7()\n",
    "\n",
    "\n",
    "print(\"Loading data...\")\n",
    "st = time.time()\n",
    "tmplt  = tmplts[0]\n",
    "print(\"Took %f seconds to load data\"%(time.time()-st))\n",
    "\n",
    "results = {} # stores 'ch': partition\n",
    "time_mat = {} # stores 'ch' : time to compute partition\n",
    "\n",
    "#### set this graph to run experiment\n",
    "graph = tmplt\n",
    "####################################\n",
    "\n",
    "print(\"Size of graph: \" + str(graph.n_nodes))\n",
    "\n",
    "# to compute non-trivial\n",
    "non_triv = {}\n",
    "\n",
    "for ch, sparse_mat in graph.ch_to_adj.items():\n",
    "    # preprocessing\n",
    "    adj_matrix = sparse_mat.toarray() # this might be too big for certain dataset\n",
    "    # compute non-triv\n",
    "    non_triv[ch] = compute_non_trivial(adj_matrix)\n",
    "    # compute equivalence classes\n",
    "    start_time = time.time()\n",
    "    results[ch] = equivalence_partition.partition_vertices(adj_matrix)\n",
    "    time_mat[ch] = time.time() - start_time # save the time took to compute the partition\n",
    "    print(\"Finished channel: \"+ ch + \". Took %5f seconds\"%(time_mat[ch]))\n",
    "\n",
    "equivpartition = equivalence_partition.combine_channel_equivalence(results)"
   ]
  },
  {
   "cell_type": "code",
   "execution_count": 25,
   "metadata": {},
   "outputs": [
    {
     "name": "stdout",
     "output_type": "stream",
     "text": [
      "==== GENERAL-STATS =====\n",
      "Total number of original nodes: 64\n",
      "Total number of equiv classes: 57\n",
      "Compression percentage (1 - equiv_classes/total_number_of_nodes): 0.11\n",
      "===== EQUIVALENCE CLASSES ===== \n",
      "[{0}, {1}, {2}, {3}, {4}, {5}, {6}, {7}, {8}, {9}, {10}, {11}, {12}, {13}, {14}, {15}, {16}, {17}, {18}, {19}, {20}, {21}, {22}, {23}, {24}, {25}, {26}, {27}, {28}, {29}, {30}, {31}, {32}, {33}, {49, 34}, {35}, {51, 36, 37, 38}, {39}, {40}, {41}, {42}, {43}, {44}, {45}, {46}, {47}, {48}, {50}, {52}, {53}, {54}, {55}, {56}, {57}, {58}, {59}, {60, 61, 62, 63}]\n",
      "===== NON-TRIVIAL EQUIV CLASSES ===== \n",
      "[{49, 34}, {51, 36, 37, 38}, {60, 61, 62, 63}]\n",
      "Number of non-trivial equiv classes: 3\n",
      "Sizes of equiv classes: [2, 4, 4]\n",
      "Largest equiv size: 4\n"
     ]
    }
   ],
   "source": [
    "print_stats(equivpartition)"
   ]
  },
  {
   "cell_type": "code",
   "execution_count": 6,
   "metadata": {
    "collapsed": true
   },
   "outputs": [
    {
     "name": "stdout",
     "output_type": "stream",
     "text": [
      "\n",
      "\u001b[93m=========STATS FOR CHANNEL Comm==============\u001b[0m\n",
      "--> Time took: 0.010499\n",
      "==== GENERAL-STATS =====\n",
      "Total number of original nodes: 92\n",
      "Total number of equiv classes: 25\n",
      "Compression percentage (1 - equiv_classes/total_number_of_nodes): 0.73\n",
      "===== EQUIVALENCE CLASSES ===== \n",
      "[{0}, {1}, {2}, {3}, {4, 12, 13, 14, 15, 16, 17, 18, 19, 20, 21, 22, 23, 24, 25, 26, 27, 32, 33, 34, 35, 36, 37, 38, 39, 40, 41, 42, 43, 44, 45, 46, 47, 48, 49, 50, 51, 52, 53, 54, 55, 67, 68, 69, 70, 71, 72, 73, 74, 76, 77, 78, 79, 80, 81, 82, 83, 84, 85, 86, 87, 88, 89, 90}, {5}, {6}, {7}, {8}, {9}, {10}, {11}, {28}, {29}, {30}, {31}, {56}, {57, 58, 60, 61}, {59}, {62}, {65, 63}, {64}, {66}, {75}, {91}]\n",
      "===== NON-TRIVIAL EQUIV CLASSES ===== \n",
      "[{4, 12, 13, 14, 15, 16, 17, 18, 19, 20, 21, 22, 23, 24, 25, 26, 27, 32, 33, 34, 35, 36, 37, 38, 39, 40, 41, 42, 43, 44, 45, 46, 47, 48, 49, 50, 51, 52, 53, 54, 55, 67, 68, 69, 70, 71, 72, 73, 74, 76, 77, 78, 79, 80, 81, 82, 83, 84, 85, 86, 87, 88, 89, 90}, {57, 58, 60, 61}, {65, 63}]\n",
      "Number of non-trivial equiv classes: 3\n",
      "Sizes of equiv classes: [64, 4, 2]\n",
      "Largest equiv size: 64\n",
      "\n",
      "\u001b[93m=========STATS FOR CHANNEL Fin==============\u001b[0m\n",
      "--> Time took: 0.011126\n",
      "==== GENERAL-STATS =====\n",
      "Total number of original nodes: 92\n",
      "Total number of equiv classes: 20\n",
      "Compression percentage (1 - equiv_classes/total_number_of_nodes): 0.78\n",
      "===== EQUIVALENCE CLASSES ===== \n",
      "[{0, 1, 2, 5, 6, 7, 8, 10, 11, 28, 29, 32, 56, 57, 58, 59, 60, 61, 62, 63, 64, 65, 75, 91}, {3}, {4}, {9}, {12, 14, 15, 16, 17, 18, 19, 20, 21, 22, 23, 24, 25}, {13}, {26, 54}, {27, 55}, {30}, {31}, {33, 35, 36, 37, 38, 39, 40, 41, 42, 43, 44, 45, 46, 47, 48, 49, 50, 51, 52, 53}, {34}, {66}, {67, 68, 69, 70, 71, 72, 73, 74}, {76, 78, 79, 80, 81, 82, 83, 84, 85, 86}, {77}, {87}, {88}, {89}, {90}]\n",
      "===== NON-TRIVIAL EQUIV CLASSES ===== \n",
      "[{0, 1, 2, 5, 6, 7, 8, 10, 11, 28, 29, 32, 56, 57, 58, 59, 60, 61, 62, 63, 64, 65, 75, 91}, {12, 14, 15, 16, 17, 18, 19, 20, 21, 22, 23, 24, 25}, {26, 54}, {27, 55}, {33, 35, 36, 37, 38, 39, 40, 41, 42, 43, 44, 45, 46, 47, 48, 49, 50, 51, 52, 53}, {67, 68, 69, 70, 71, 72, 73, 74}, {76, 78, 79, 80, 81, 82, 83, 84, 85, 86}]\n",
      "Number of non-trivial equiv classes: 7\n",
      "Sizes of equiv classes: [24, 13, 2, 2, 20, 8, 10]\n",
      "Largest equiv size: 24\n",
      "\n",
      "\u001b[93m=========STATS FOR CHANNEL Log==============\u001b[0m\n",
      "--> Time took: 0.003784\n",
      "==== GENERAL-STATS =====\n",
      "Total number of original nodes: 92\n",
      "Total number of equiv classes: 5\n",
      "Compression percentage (1 - equiv_classes/total_number_of_nodes): 0.95\n",
      "===== EQUIVALENCE CLASSES ===== \n",
      "[{0, 1, 2, 3, 4, 5, 6, 7, 8, 9, 10, 11, 12, 13, 14, 15, 16, 17, 18, 19, 20, 21, 22, 23, 24, 25, 26, 27, 28, 29, 30, 33, 34, 35, 36, 37, 38, 39, 40, 41, 42, 43, 44, 45, 46, 47, 48, 49, 50, 51, 52, 53, 54, 55, 56, 57, 58, 59, 60, 61, 62, 63, 64, 65, 66, 67, 68, 69, 70, 71, 72, 73, 74, 75, 76, 77, 78, 79, 80, 81, 82, 83, 84, 85, 86, 87, 88, 89}, {31}, {32}, {90}, {91}]\n",
      "===== NON-TRIVIAL EQUIV CLASSES ===== \n",
      "[{0, 1, 2, 3, 4, 5, 6, 7, 8, 9, 10, 11, 12, 13, 14, 15, 16, 17, 18, 19, 20, 21, 22, 23, 24, 25, 26, 27, 28, 29, 30, 33, 34, 35, 36, 37, 38, 39, 40, 41, 42, 43, 44, 45, 46, 47, 48, 49, 50, 51, 52, 53, 54, 55, 56, 57, 58, 59, 60, 61, 62, 63, 64, 65, 66, 67, 68, 69, 70, 71, 72, 73, 74, 75, 76, 77, 78, 79, 80, 81, 82, 83, 84, 85, 86, 87, 88, 89}]\n",
      "Number of non-trivial equiv classes: 1\n",
      "Sizes of equiv classes: [88]\n",
      "Largest equiv size: 88\n"
     ]
    }
   ],
   "source": [
    "verbose = True\n",
    "class bcolors:\n",
    "    HEADER = '\\033[95m'\n",
    "    OKBLUE = '\\033[94m'\n",
    "    OKGREEN = '\\033[92m'\n",
    "    WARNING = '\\033[93m'\n",
    "    FAIL = '\\033[91m'\n",
    "    ENDC = '\\033[0m'\n",
    "    BOLD = '\\033[1m'\n",
    "    UNDERLINE = '\\033[4m'\n",
    "    \n",
    "def print_stats(partition, detailed=True):\n",
    "    equiv_classes = partition.classes()\n",
    "    # compute some stats\n",
    "    print(\"==== GENERAL-STATS =====\")\n",
    "    # the number of nodes\n",
    "    print(\"Total number of original nodes: \" + str(len(partition))    )  \n",
    "    # the number of equiv classes\n",
    "    print(\"Total number of equiv classes: \" + str(len(equiv_classes))) \n",
    "    # compression percentage\n",
    "    compression_percentage = 1- len(equiv_classes)/len(partition)\n",
    "    print(\"Compression percentage (1 - equiv_classes/total_number_of_nodes): %4.2f\"%(compression_percentage))\n",
    "    equiv_classes = partition.classes() \n",
    "    \n",
    "    if detailed:\n",
    "        print(\"===== EQUIVALENCE CLASSES ===== \")\n",
    "        print(equiv_classes)\n",
    "    \n",
    "    print(\"===== NON-TRIVIAL EQUIV CLASSES ===== \")\n",
    "    non_triv = [i for i in equiv_classes if len(i) > 1]\n",
    "    if detailed:\n",
    "        print(non_triv)\n",
    "    print(\"Number of non-trivial equiv classes: %d\"%len(non_triv))\n",
    "    \n",
    "    sizes = [len(l) for l in non_triv]\n",
    "    if detailed:\n",
    "        print(\"Sizes of equiv classes: \"+ str(sizes))\n",
    "        print(\"Largest equiv size: %d\"%(max(sizes)))\n"
   ]
  },
  {
   "cell_type": "code",
   "execution_count": 9,
   "metadata": {},
   "outputs": [
    {
     "name": "stdout",
     "output_type": "stream",
     "text": [
      "\n",
      "\u001b[93m=========STATS FOR CHANNEL Comm==============\u001b[0m\n",
      "--> Time took: 0.010499\n",
      "==== GENERAL-STATS =====\n",
      "Total number of original nodes: 92\n",
      "Total number of equiv classes: 25\n",
      "Compression percentage (1 - equiv_classes/total_number_of_nodes): 0.73\n",
      "===== EQUIVALENCE CLASSES ===== \n",
      "[{0}, {1}, {2}, {3}, {4, 12, 13, 14, 15, 16, 17, 18, 19, 20, 21, 22, 23, 24, 25, 26, 27, 32, 33, 34, 35, 36, 37, 38, 39, 40, 41, 42, 43, 44, 45, 46, 47, 48, 49, 50, 51, 52, 53, 54, 55, 67, 68, 69, 70, 71, 72, 73, 74, 76, 77, 78, 79, 80, 81, 82, 83, 84, 85, 86, 87, 88, 89, 90}, {5}, {6}, {7}, {8}, {9}, {10}, {11}, {28}, {29}, {30}, {31}, {56}, {57, 58, 60, 61}, {59}, {62}, {65, 63}, {64}, {66}, {75}, {91}]\n",
      "===== NON-TRIVIAL EQUIV CLASSES ===== \n",
      "[{4, 12, 13, 14, 15, 16, 17, 18, 19, 20, 21, 22, 23, 24, 25, 26, 27, 32, 33, 34, 35, 36, 37, 38, 39, 40, 41, 42, 43, 44, 45, 46, 47, 48, 49, 50, 51, 52, 53, 54, 55, 67, 68, 69, 70, 71, 72, 73, 74, 76, 77, 78, 79, 80, 81, 82, 83, 84, 85, 86, 87, 88, 89, 90}, {57, 58, 60, 61}, {65, 63}]\n",
      "Number of non-trivial equiv classes: 3\n",
      "Sizes of equiv classes: [64, 4, 2]\n",
      "Largest equiv size: 64\n",
      "\n",
      "\u001b[93m=========STATS FOR CHANNEL Fin==============\u001b[0m\n",
      "--> Time took: 0.011126\n",
      "==== GENERAL-STATS =====\n",
      "Total number of original nodes: 92\n",
      "Total number of equiv classes: 20\n",
      "Compression percentage (1 - equiv_classes/total_number_of_nodes): 0.78\n",
      "===== EQUIVALENCE CLASSES ===== \n",
      "[{0, 1, 2, 5, 6, 7, 8, 10, 11, 28, 29, 32, 56, 57, 58, 59, 60, 61, 62, 63, 64, 65, 75, 91}, {3}, {4}, {9}, {12, 14, 15, 16, 17, 18, 19, 20, 21, 22, 23, 24, 25}, {13}, {26, 54}, {27, 55}, {30}, {31}, {33, 35, 36, 37, 38, 39, 40, 41, 42, 43, 44, 45, 46, 47, 48, 49, 50, 51, 52, 53}, {34}, {66}, {67, 68, 69, 70, 71, 72, 73, 74}, {76, 78, 79, 80, 81, 82, 83, 84, 85, 86}, {77}, {87}, {88}, {89}, {90}]\n",
      "===== NON-TRIVIAL EQUIV CLASSES ===== \n",
      "[{0, 1, 2, 5, 6, 7, 8, 10, 11, 28, 29, 32, 56, 57, 58, 59, 60, 61, 62, 63, 64, 65, 75, 91}, {12, 14, 15, 16, 17, 18, 19, 20, 21, 22, 23, 24, 25}, {26, 54}, {27, 55}, {33, 35, 36, 37, 38, 39, 40, 41, 42, 43, 44, 45, 46, 47, 48, 49, 50, 51, 52, 53}, {67, 68, 69, 70, 71, 72, 73, 74}, {76, 78, 79, 80, 81, 82, 83, 84, 85, 86}]\n",
      "Number of non-trivial equiv classes: 7\n",
      "Sizes of equiv classes: [24, 13, 2, 2, 20, 8, 10]\n",
      "Largest equiv size: 24\n",
      "\n",
      "\u001b[93m=========STATS FOR CHANNEL Log==============\u001b[0m\n",
      "--> Time took: 0.003784\n",
      "==== GENERAL-STATS =====\n",
      "Total number of original nodes: 92\n",
      "Total number of equiv classes: 5\n",
      "Compression percentage (1 - equiv_classes/total_number_of_nodes): 0.95\n",
      "===== EQUIVALENCE CLASSES ===== \n",
      "[{0, 1, 2, 3, 4, 5, 6, 7, 8, 9, 10, 11, 12, 13, 14, 15, 16, 17, 18, 19, 20, 21, 22, 23, 24, 25, 26, 27, 28, 29, 30, 33, 34, 35, 36, 37, 38, 39, 40, 41, 42, 43, 44, 45, 46, 47, 48, 49, 50, 51, 52, 53, 54, 55, 56, 57, 58, 59, 60, 61, 62, 63, 64, 65, 66, 67, 68, 69, 70, 71, 72, 73, 74, 75, 76, 77, 78, 79, 80, 81, 82, 83, 84, 85, 86, 87, 88, 89}, {31}, {32}, {90}, {91}]\n",
      "===== NON-TRIVIAL EQUIV CLASSES ===== \n",
      "[{0, 1, 2, 3, 4, 5, 6, 7, 8, 9, 10, 11, 12, 13, 14, 15, 16, 17, 18, 19, 20, 21, 22, 23, 24, 25, 26, 27, 28, 29, 30, 33, 34, 35, 36, 37, 38, 39, 40, 41, 42, 43, 44, 45, 46, 47, 48, 49, 50, 51, 52, 53, 54, 55, 56, 57, 58, 59, 60, 61, 62, 63, 64, 65, 66, 67, 68, 69, 70, 71, 72, 73, 74, 75, 76, 77, 78, 79, 80, 81, 82, 83, 84, 85, 86, 87, 88, 89}]\n",
      "Number of non-trivial equiv classes: 1\n",
      "Sizes of equiv classes: [88]\n",
      "Largest equiv size: 88\n"
     ]
    }
   ],
   "source": [
    "for ch in results:\n",
    "    print(\"\\n\" + bcolors.WARNING+\\\n",
    "          \"=========STATS FOR CHANNEL \"+ ch+ \"==============\" + bcolors.ENDC)\n",
    "    print(\"--> Time took: %f\"%(time_mat[ch]))\n",
    "    print_stats(results[ch], detailed=verbose)"
   ]
  },
  {
   "cell_type": "code",
   "execution_count": 15,
   "metadata": {},
   "outputs": [
    {
     "name": "stdout",
     "output_type": "stream",
     "text": [
      "Loading data...\n",
      "Took 0.000096 seconds to load data\n",
      "Size of graph: 156\n",
      "Finished channel: 0. Took 0.113416 seconds\n",
      "Finished channel: 10. Took 0.008129 seconds\n",
      "Finished channel: 1. Took 0.054161 seconds\n",
      "Finished channel: 2. Took 0.016850 seconds\n",
      "Finished channel: 3. Took 0.009246 seconds\n",
      "Finished channel: 4. Took 0.007632 seconds\n",
      "Finished channel: 5. Took 0.024139 seconds\n",
      "Finished channel: 6. Took 0.007635 seconds\n",
      "Finished channel: 8. Took 0.013842 seconds\n",
      "Finished channel: 9. Took 0.008142 seconds\n"
     ]
    }
   ],
   "source": [
    "output.show()"
   ]
  },
  {
   "cell_type": "code",
   "execution_count": null,
   "metadata": {},
   "outputs": [],
   "source": []
  }
 ],
 "metadata": {
  "kernelspec": {
   "display_name": "Python 3",
   "language": "python",
   "name": "python3"
  },
  "language_info": {
   "codemirror_mode": {
    "name": "ipython",
    "version": 3
   },
   "file_extension": ".py",
   "mimetype": "text/x-python",
   "name": "python",
   "nbconvert_exporter": "python",
   "pygments_lexer": "ipython3",
   "version": "3.7.3"
  }
 },
 "nbformat": 4,
 "nbformat_minor": 2
}
