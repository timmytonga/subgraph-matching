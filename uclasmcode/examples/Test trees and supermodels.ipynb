{
 "cells": [
  {
   "cell_type": "code",
   "execution_count": 13,
   "metadata": {},
   "outputs": [
    {
     "name": "stdout",
     "output_type": "stream",
     "text": [
      "Supernode(0,)Supernode(1,)Supernode(2, 3)Supernode(4,)\n"
     ]
    }
   ],
   "source": [
    "from uclasmcode.candidate_structure.supernodes import Supernode\n",
    "from uclasmcode.candidate_structure.solution_tree import *\n",
    "from uclasmcode.candidate_structure.partial_match import *\n",
    "\n",
    "from anytree import RenderTree, DoubleStyle\n",
    "\n",
    "template_ordering = [Supernode(0), Supernode(1), Supernode([2,3]), Supernode(4)]\n",
    "cand_dict = {i: set for i in template_ordering}\n",
    "\n",
    "print(\"\".join([str(i) for i in template_ordering]))\n"
   ]
  },
  {
   "cell_type": "code",
   "execution_count": null,
   "metadata": {},
   "outputs": [],
   "source": [
    "# test tree\n",
    "\n",
    "equiv_classes = [0, 1, (2, 3), 4, 5, 6, 7, 8, 9, 10]\n",
    "template_nodes = [Supernode(i) for i in equiv_classes]\n",
    "new_match = [{0}, {2}, {4, 5}, {1}, {3}, {6}, {7}, {8}, {9}, {10}]\n",
    "new_match2 = [{0}, {2}, {4, 5}, {1}, {3}, {6}, {7}, {8}, {9}, {10}]\n",
    "\n",
    "def create_partial_match(n, matchList = new_match):\n",
    "    assert n >= 1\n",
    "    partial_match = PartialMatch()\n",
    "    for i in range(n):\n",
    "        partial_match.add_match(template_nodes[i], new_match[i])\n",
    "    return partial_match\n",
    "\n"
   ]
  },
  {
   "cell_type": "code",
   "execution_count": 14,
   "metadata": {},
   "outputs": [
    {
     "name": "stdout",
     "output_type": "stream",
     "text": [
      "root\n",
      "╚══ Supernode(0,)\n",
      "    ╠══ Supernode(1,)\n",
      "    ║   ╚══ Supernode(3, 4)\n",
      "    ║       ╠══ Supernode(5,)\n",
      "    ║       ╚══ Supernode(6,)\n",
      "    ╚══ Supernode(2,)\n",
      "        ╚══ Supernode(3, 4)\n",
      "            ╚══ Supernode(5,)\n",
      "\n",
      "['Supernode(0,)', 'Supernode(1,)', 'Supernode(2, 3)', 'Supernode(4,)']\n"
     ]
    }
   ],
   "source": [
    "\n",
    "\n",
    "st = SolutionTree([i for i in template_nodes[:4]])\n",
    "st.root = SolutionNode(name=\"root\")\n",
    "s0 = SolutionNode(Supernode(0), parent=st.root)\n",
    "s1 = SolutionNode(Supernode(1), parent=s0)\n",
    "s2 = SolutionNode(Supernode(2), parent=s0)\n",
    "s3 = SolutionNode(Supernode([3, 4]), parent=s1)\n",
    "s4 = SolutionNode(Supernode([3, 4]), parent=s2)\n",
    "s5 = SolutionNode(Supernode(5), parent=s3)\n",
    "s6 = SolutionNode(Supernode(6), parent=s3)\n",
    "s7 = SolutionNode(Supernode(5), parent=s4)\n",
    "print(st)\n",
    "print([str(i) for i in st.template_node_ordering])"
   ]
  },
  {
   "cell_type": "code",
   "execution_count": 15,
   "metadata": {},
   "outputs": [
    {
     "name": "stdout",
     "output_type": "stream",
     "text": [
      "[('Supernode(0,)', '{0}'), ('Supernode(1,)', '{2}'), ('Supernode(2, 3)', '{4, 5}'), ('Supernode(4,)', '{1}')]\n"
     ]
    }
   ],
   "source": [
    "partial_match = create_partial_match(4)\n",
    "print(partial_match)"
   ]
  },
  {
   "cell_type": "code",
   "execution_count": 17,
   "metadata": {},
   "outputs": [
    {
     "data": {
      "text/plain": [
       "True"
      ]
     },
     "execution_count": 17,
     "metadata": {},
     "output_type": "execute_result"
    }
   ],
   "source": [
    "Supernode((1,2,3)) == Supernode({1,2,3})"
   ]
  },
  {
   "cell_type": "code",
   "execution_count": 12,
   "metadata": {},
   "outputs": [
    {
     "data": {
      "text/plain": [
       "True"
      ]
     },
     "execution_count": 12,
     "metadata": {},
     "output_type": "execute_result"
    }
   ],
   "source": [
    "hash((1,2,3)) == hash(tuple(sorted([2,3,1])))"
   ]
  },
  {
   "cell_type": "code",
   "execution_count": 9,
   "metadata": {
    "collapsed": true
   },
   "outputs": [
    {
     "name": "stdout",
     "output_type": "stream",
     "text": [
      "{'matches': {<uclasmcode.candidate_structure.supernodes.Supernode object at 0x104201e80>: {0}, <uclasmcode.candidate_structure.supernodes.Supernode object at 0x104201e48>: {2}}, 'node_stack': [<uclasmcode.candidate_structure.supernodes.Supernode object at 0x104201e80>, <uclasmcode.candidate_structure.supernodes.Supernode object at 0x104201e48>]}\n"
     ]
    }
   ],
   "source": [
    "\n",
    "\n"
   ]
  }
 ],
 "metadata": {
  "kernelspec": {
   "display_name": "Python 3",
   "language": "python",
   "name": "python3"
  },
  "language_info": {
   "codemirror_mode": {
    "name": "ipython",
    "version": 3
   },
   "file_extension": ".py",
   "mimetype": "text/x-python",
   "name": "python",
   "nbconvert_exporter": "python",
   "pygments_lexer": "ipython3",
   "version": "3.7.3"
  }
 },
 "nbformat": 4,
 "nbformat_minor": 2
}
