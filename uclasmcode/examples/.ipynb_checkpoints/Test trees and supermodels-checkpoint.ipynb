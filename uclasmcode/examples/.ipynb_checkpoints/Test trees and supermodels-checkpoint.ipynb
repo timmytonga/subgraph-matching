{
 "cells": [
  {
   "cell_type": "code",
   "execution_count": 1,
   "metadata": {},
   "outputs": [
    {
     "name": "stdout",
     "output_type": "stream",
     "text": [
      "Supernode(0,)Supernode(1,)Supernode(2, 3)Supernode(4,)\n"
     ]
    }
   ],
   "source": [
    "from uclasmcode.candidate_structure.supernodes import Supernode\n",
    "from uclasmcode.candidate_structure.solution_tree import *\n",
    "from uclasmcode.candidate_structure.partial_match import *\n",
    "\n",
    "from anytree import RenderTree, DoubleStyle\n",
    "\n",
    "template_ordering = [Supernode(0), Supernode(1), Supernode([2,3]), Supernode(4)]\n",
    "cand_dict = {i: set for i in template_ordering}\n",
    "\n",
    "print(\"\".join([str(i) for i in template_ordering]))\n"
   ]
  },
  {
   "cell_type": "code",
   "execution_count": 2,
   "metadata": {},
   "outputs": [
    {
     "name": "stdout",
     "output_type": "stream",
     "text": [
      "root\n",
      "╚══ Supernode(0,)\n",
      "    ╠══ Supernode(1,)\n",
      "    ║   ╚══ Supernode(3, 4)\n",
      "    ║       ╠══ Supernode(5,)\n",
      "    ║       ╚══ Supernode(6,)\n",
      "    ╚══ Supernode(2,)\n",
      "        ╚══ Supernode(3, 4)\n",
      "            ╚══ Supernode(5,)\n",
      "\n",
      "['Supernode(0,)', 'Supernode(1,)', 'Supernode(2, 3)', 'Supernode(4,)']\n"
     ]
    }
   ],
   "source": [
    "# test tree\n",
    "\n",
    "equiv_classes = [0, 1, (2, 3), 4, 5, 6, 7, 8, 9, 10]\n",
    "template_nodes = [Supernode(i) for i in equiv_classes]\n",
    "new_match = [{0}, {2}, {4, 5}, {1}, {3}, {6}, {7}, {8}, {9}, {10}]\n",
    "\n",
    "\n",
    "def create_partial_match(n):\n",
    "    assert n >= 1\n",
    "    partial_match = PartialMatch()\n",
    "    for i in range(n):\n",
    "        partial_match.add_match(template_nodes[i], new_match[i])\n",
    "    return partial_match\n",
    "\n",
    "\n",
    "st = SolutionTree([i for i in template_nodes[:4]])\n",
    "st.root = SolutionNode(name=\"root\")\n",
    "s0 = SolutionNode(Supernode(0), parent=st.root)\n",
    "s1 = SolutionNode(Supernode(1), parent=s0)\n",
    "s2 = SolutionNode(Supernode(2), parent=s0)\n",
    "s3 = SolutionNode(Supernode([3, 4]), parent=s1)\n",
    "s4 = SolutionNode(Supernode([3, 4]), parent=s2)\n",
    "s5 = SolutionNode(Supernode(5), parent=s3)\n",
    "s6 = SolutionNode(Supernode(6), parent=s3)\n",
    "s7 = SolutionNode(Supernode(5), parent=s4)\n",
    "print(st)\n",
    "print([str(i) for i in st.template_node_ordering])"
   ]
  },
  {
   "cell_type": "code",
   "execution_count": 3,
   "metadata": {},
   "outputs": [
    {
     "name": "stdout",
     "output_type": "stream",
     "text": [
      "[('Supernode(0,)', '{0}'), ('Supernode(1,)', '{2}'), ('Supernode(2, 3)', '{4, 5}'), ('Supernode(4,)', '{1}')]\n"
     ]
    }
   ],
   "source": [
    "partial_match = create_partial_match(4)\n",
    "print(partial_match)"
   ]
  },
  {
   "cell_type": "code",
   "execution_count": 5,
   "metadata": {},
   "outputs": [
    {
     "ename": "AttributeError",
     "evalue": "'Supernode' object has no attribute 'same_super_node'",
     "output_type": "error",
     "traceback": [
      "\u001b[0;31m---------------------------------------------------------------------------\u001b[0m",
      "\u001b[0;31mAttributeError\u001b[0m                            Traceback (most recent call last)",
      "\u001b[0;32m<ipython-input-5-16e73b22d00d>\u001b[0m in \u001b[0;36m<module>\u001b[0;34m\u001b[0m\n\u001b[1;32m     20\u001b[0m             \u001b[0mprev_node\u001b[0m \u001b[0;34m=\u001b[0m \u001b[0mSolutionNode\u001b[0m\u001b[0;34m(\u001b[0m\u001b[0mmatch\u001b[0m\u001b[0;34m,\u001b[0m \u001b[0mparent\u001b[0m\u001b[0;34m=\u001b[0m\u001b[0mprev_node\u001b[0m\u001b[0;34m)\u001b[0m\u001b[0;34m\u001b[0m\u001b[0;34m\u001b[0m\u001b[0m\n\u001b[1;32m     21\u001b[0m \u001b[0;34m\u001b[0m\u001b[0m\n\u001b[0;32m---> 22\u001b[0;31m \u001b[0madd_solution\u001b[0m\u001b[0;34m(\u001b[0m\u001b[0mst\u001b[0m\u001b[0;34m,\u001b[0m \u001b[0mpartial_match\u001b[0m\u001b[0;34m)\u001b[0m\u001b[0;34m\u001b[0m\u001b[0;34m\u001b[0m\u001b[0m\n\u001b[0m",
      "\u001b[0;32m<ipython-input-5-16e73b22d00d>\u001b[0m in \u001b[0;36madd_solution\u001b[0;34m(self, matching)\u001b[0m\n\u001b[1;32m     12\u001b[0m         \u001b[0mchild_flag\u001b[0m \u001b[0;34m=\u001b[0m \u001b[0;32mFalse\u001b[0m\u001b[0;34m\u001b[0m\u001b[0;34m\u001b[0m\u001b[0m\n\u001b[1;32m     13\u001b[0m         \u001b[0;32mfor\u001b[0m \u001b[0mchild\u001b[0m \u001b[0;32min\u001b[0m \u001b[0mprev_node\u001b[0m\u001b[0;34m.\u001b[0m\u001b[0mchildren\u001b[0m\u001b[0;34m:\u001b[0m  \u001b[0;31m# child is a SolutionNode(match)\u001b[0m\u001b[0;34m\u001b[0m\u001b[0;34m\u001b[0m\u001b[0m\n\u001b[0;32m---> 14\u001b[0;31m             \u001b[0;32mif\u001b[0m \u001b[0mmatch\u001b[0m\u001b[0;34m.\u001b[0m\u001b[0msame_super_node\u001b[0m\u001b[0;34m(\u001b[0m\u001b[0mchild\u001b[0m\u001b[0;34m)\u001b[0m\u001b[0;34m:\u001b[0m  \u001b[0;31m# if it exists already\u001b[0m\u001b[0;34m\u001b[0m\u001b[0;34m\u001b[0m\u001b[0m\n\u001b[0m\u001b[1;32m     15\u001b[0m                 \u001b[0mchild_flag\u001b[0m \u001b[0;34m=\u001b[0m \u001b[0;32mTrue\u001b[0m\u001b[0;34m\u001b[0m\u001b[0;34m\u001b[0m\u001b[0m\n\u001b[1;32m     16\u001b[0m                 \u001b[0mprev_node\u001b[0m \u001b[0;34m=\u001b[0m \u001b[0mchild\u001b[0m  \u001b[0;31m# we want to keep the same child for next layer\u001b[0m\u001b[0;34m\u001b[0m\u001b[0;34m\u001b[0m\u001b[0m\n",
      "\u001b[0;31mAttributeError\u001b[0m: 'Supernode' object has no attribute 'same_super_node'"
     ]
    }
   ],
   "source": [
    "def add_solution(self, matching: PartialMatch) -> None:\n",
    "    \"\"\" This should add the matching to the main solution tree\"\"\"\n",
    "    assert len(matching) == self.num_tmplt_nodes, \"Must have enough matches\"\n",
    "    match_dict = matching.get_matches()\n",
    "    # ### now we add the solution to the tree\n",
    "    prev_node = self.root  # we start at the root\n",
    "    # then we traverse the tree in the same order we were given with\n",
    "    for i in range(self.num_tmplt_nodes):  # iterate over all tmplt nodes\n",
    "        curr_tmplt_node = self.template_node_ordering[i]  # the current node\n",
    "        match = Supernode(match_dict[curr_tmplt_node])  # this is a set that the curr_node is matched to\n",
    "        # now we check if there's a child already on this path\n",
    "        child_flag = False\n",
    "        for child in prev_node.children:  # child is a SolutionNode(match)\n",
    "            if match == child.supernode:  # if it exists already\n",
    "                child_flag = True\n",
    "                prev_node = child  # we want to keep the same child for next layer\n",
    "                break\n",
    "        \n",
    "        if not child_flag:  # if there's no child, create one and set it as that for next run\n",
    "            prev_node = SolutionNode(match, parent=prev_node)  \n",
    "        \n",
    "add_solution(st, partial_match)"
   ]
  },
  {
   "cell_type": "code",
   "execution_count": 9,
   "metadata": {
    "collapsed": true
   },
   "outputs": [
    {
     "name": "stdout",
     "output_type": "stream",
     "text": [
      "{'matches': {<uclasmcode.candidate_structure.supernodes.Supernode object at 0x104201e80>: {0}, <uclasmcode.candidate_structure.supernodes.Supernode object at 0x104201e48>: {2}}, 'node_stack': [<uclasmcode.candidate_structure.supernodes.Supernode object at 0x104201e80>, <uclasmcode.candidate_structure.supernodes.Supernode object at 0x104201e48>]}\n"
     ]
    }
   ],
   "source": [
    "    assert len(matching) == self.num_tmplt_nodes, \"Must have enough matches\"\n",
    "    match_dict = matching.get_matches()\n",
    "    # first we update the counter\n",
    "    for sn, matches in match_dict.items():\n",
    "        # a match contributes all the permutation to a solution. This number can be huge\n",
    "        # Python supports large integers naturally\n",
    "        self.num_isomorphisms += math.factorial(len(matches))\n",
    "\n"
   ]
  },
  {
   "cell_type": "code",
   "execution_count": null,
   "metadata": {},
   "outputs": [],
   "source": []
  }
 ],
 "metadata": {
  "kernelspec": {
   "display_name": "Python 3",
   "language": "python",
   "name": "python3"
  },
  "language_info": {
   "codemirror_mode": {
    "name": "ipython",
    "version": 3
   },
   "file_extension": ".py",
   "mimetype": "text/x-python",
   "name": "python",
   "nbconvert_exporter": "python",
   "pygments_lexer": "ipython3",
   "version": "3.7.3"
  }
 },
 "nbformat": 4,
 "nbformat_minor": 2
}
